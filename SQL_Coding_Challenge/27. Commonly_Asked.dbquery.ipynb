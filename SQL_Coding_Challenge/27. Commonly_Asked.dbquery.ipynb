{
 "cells": [
  {
   "cell_type": "code",
   "execution_count": 0,
   "metadata": {
    "application/vnd.databricks.v1+cell": {
     "cellMetadata": {
      "byteLimit": 10485760,
      "rowLimit": 1000
     },
     "inputWidgets": {},
     "nuid": "2553870e-8dd5-4131-a92e-376c93cee4d8",
     "showTitle": false,
     "tableResultSettingsMap": {},
     "title": ""
    }
   },
   "outputs": [],
   "source": [
    "------------------------------ TABLE FORMATION ------------------------------\n",
    "drop table if exists seats;\n",
    "\n",
    "CREATE TABLE seats (\n",
    "    id INT,\n",
    "    student VARCHAR(10)\n",
    ");\n",
    "\n",
    "INSERT INTO seats VALUES \n",
    "(1, 'Amit'),\n",
    "(2, 'Deepa'),\n",
    "(3, 'Rohit'),\n",
    "(4, 'Anjali'),\n",
    "(5, 'Neha'),\n",
    "(6, 'Sanjay'),\n",
    "(7, 'Priya');\n",
    "\n",
    "------------------------------------------------------------------------------------------\n",
    "\n",
    "/*\n",
    "Q1:\n",
    "Write a solution to swap the seat id of every two consecutive students.\n",
    "If the number of students is odd, the id of the last student is not swapped.\n",
    "*/\n",
    "\n",
    "-- Ans1:\n",
    "-- Method 1: Using CTE\n",
    "select *,\n",
    "case\n",
    "  when id = (select max(id) from seats) and id%2=1  then id\n",
    "  when id%2=1 then id+1\n",
    "  else id-1\n",
    "end as new_id\n",
    "from seats;\n",
    "\n",
    "-- Method 2: Using LEAD and LAG\n",
    "select *,\n",
    "case\n",
    "  when id%2=1 then LEAD(id,1,id) OVER(order by id)\n",
    "  else LAG(id,1) OVER(order by id)\n",
    "end as new_id\n",
    "from seats\n"
   ]
  }
 ],
 "metadata": {
  "application/vnd.databricks.v1+notebook": {
   "computePreferences": null,
   "dashboards": [],
   "environmentMetadata": null,
   "inputWidgetPreferences": null,
   "language": "sql",
   "notebookMetadata": {
    "pythonIndentUnit": 4,
    "sqlQueryOptions": {
     "applyAutoLimit": true,
     "catalog": "workspace",
     "schema": "default"
    }
   },
   "notebookName": "27. Commonly_Asked.dbquery.ipynb",
   "widgets": {}
  },
  "language_info": {
   "name": "sql"
  }
 },
 "nbformat": 4,
 "nbformat_minor": 0
}
